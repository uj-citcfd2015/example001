# !pip install matplotlib
import matplotlib as mpl
mpl.use('Agg') # この行を追記
import matplotlib.pyplot as plt
import matplotlib.animation as animation

import numpy as np

# ここにグラフを描画してファイルに保存する処理
x = [100, 200, 600]
y = [10, 20, 30]

plt.plot(x, y);
plt.savefig("hoge.png") # この行を追記


fig = plt.figure()
ax = fig.add_subplot(111)
#Line2D objectを入れるリスト
ims = []

for i in range(10):
    x = np.array(range(60))
    Y  = np.sin(x/5 - i * 5)
    im = ax.plot(Y, color='blue')
    ims.append(im) #各フレーム画像をimsに追加

#アニメの生成
ani = animation.ArtistAnimation(fig, ims, interval=100, blit=True, repeat_delay=1000)

#保存
ani.save("sample.gif", writer="pillow")

#表示
plt.show()
