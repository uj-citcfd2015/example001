{
  "nbformat": 4,
  "nbformat_minor": 0,
  "metadata": {
    "colab": {
      "name": "uj顔の枠.ipynb",
      "provenance": [],
      "collapsed_sections": [],
      "include_colab_link": true
    },
    "kernelspec": {
      "name": "python3",
      "display_name": "Python 3"
    },
    "language_info": {
      "name": "python"
    }
  },
  "cells": [
    {
      "cell_type": "markdown",
      "metadata": {
        "id": "view-in-github",
        "colab_type": "text"
      },
      "source": [
        "<a href=\"https://colab.research.google.com/github/uj-citcfd2015/example001/blob/main/uj%E9%A1%94%E3%81%AE%E6%9E%A0.ipynb\" target=\"_parent\"><img src=\"https://colab.research.google.com/assets/colab-badge.svg\" alt=\"Open In Colab\"/></a>"
      ]
    },
    {
      "cell_type": "code",
      "source": [
        "import cv2\n",
        "from matplotlib import pyplot as plt\n",
        "!wget -q  https://raw.githubusercontent.com/opencv/opencv/master/data/haarcascades/haarcascade_frontalface_alt.xml\n",
        "cascade = cv2.CascadeClassifier('./haarcascade_frontalface_alt.xml')"
      ],
      "metadata": {
        "id": "4gxojH3cMAl8"
      },
      "execution_count": null,
      "outputs": []
    },
    {
      "cell_type": "code",
      "source": [
        "img = cv2.imread('face-mona.jpg')\n",
        "image_gray = cv2.cvtColor(img, cv2.COLOR_BGR2GRAY)\n",
        "waku = cascade.detectMultiScale(image_gray)\n",
        "if len(waku) > 0:\n",
        "   for x, y, w, h in waku:\n",
        "        cv2.rectangle(img, (x, y), (x + w, y + h), (255, 0, 0), 2)"
      ],
      "metadata": {
        "id": "1n5vsbnNi727"
      },
      "execution_count": null,
      "outputs": []
    },
    {
      "cell_type": "code",
      "source": [
        "image2 = cv2.cvtColor(img, cv2.COLOR_RGB2BGR)\n",
        "plt.axis('off')\n",
        "plt.imshow(image2)"
      ],
      "metadata": {
        "id": "VR66aocAvKkS"
      },
      "execution_count": null,
      "outputs": []
    }
  ]
}